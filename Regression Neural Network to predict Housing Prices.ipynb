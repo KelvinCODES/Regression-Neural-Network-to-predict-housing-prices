{
 "cells": [
  {
   "cell_type": "markdown",
   "metadata": {},
   "source": [
    "# Regression Neural Network to predict housing prices"
   ]
  },
  {
   "cell_type": "markdown",
   "metadata": {},
   "source": [
    "Training a neural network to predict housing prices on the Boston Housing prices dataset"
   ]
  },
  {
   "cell_type": "code",
   "execution_count": 5,
   "metadata": {},
   "outputs": [],
   "source": [
    "from keras.datasets import boston_housing\n",
    "from keras import models\n",
    "from keras import layers\n",
    "import numpy as np\n",
    "import matplotlib.pyplot as plt\n",
    "%matplotlib inline"
   ]
  },
  {
   "cell_type": "markdown",
   "metadata": {},
   "source": [
    "## The Boson Housing prices dataset"
   ]
  },
  {
   "cell_type": "code",
   "execution_count": 6,
   "metadata": {},
   "outputs": [
    {
     "name": "stdout",
     "output_type": "stream",
     "text": [
      "Downloading data from https://s3.amazonaws.com/keras-datasets/boston_housing.npz\n",
      "57344/57026 [==============================] - 0s 1us/step\n"
     ]
    }
   ],
   "source": [
    "(train_data, train_labels), (test_data, test_labels) = boston_housing.load_data()"
   ]
  },
  {
   "cell_type": "markdown",
   "metadata": {},
   "source": [
    "Lets look at the dimensions and a couple of samples from the dataset"
   ]
  },
  {
   "cell_type": "code",
   "execution_count": 7,
   "metadata": {},
   "outputs": [
    {
     "name": "stdout",
     "output_type": "stream",
     "text": [
      "(404, 13)\n",
      "(102, 13)\n"
     ]
    }
   ],
   "source": [
    "print(train_data.shape)\n",
    "print(test_data.shape)"
   ]
  },
  {
   "cell_type": "markdown",
   "metadata": {},
   "source": [
    "There are 404 training samples and 102 testing samples, we should keep this in mind since this is a relatively small amount of data available"
   ]
  },
  {
   "cell_type": "code",
   "execution_count": 8,
   "metadata": {},
   "outputs": [
    {
     "data": {
      "text/plain": [
       "array([  1.23247,   0.     ,   8.14   ,   0.     ,   0.538  ,   6.142  ,\n",
       "        91.7    ,   3.9769 ,   4.     , 307.     ,  21.     , 396.9    ,\n",
       "        18.72   ])"
      ]
     },
     "execution_count": 8,
     "metadata": {},
     "output_type": "execute_result"
    }
   ],
   "source": [
    "train_data[0]"
   ]
  },
  {
   "cell_type": "code",
   "execution_count": 9,
   "metadata": {},
   "outputs": [
    {
     "data": {
      "text/plain": [
       "array([2.1770e-02, 8.2500e+01, 2.0300e+00, 0.0000e+00, 4.1500e-01,\n",
       "       7.6100e+00, 1.5700e+01, 6.2700e+00, 2.0000e+00, 3.4800e+02,\n",
       "       1.4700e+01, 3.9538e+02, 3.1100e+00])"
      ]
     },
     "execution_count": 9,
     "metadata": {},
     "output_type": "execute_result"
    }
   ],
   "source": [
    "train_data[1]"
   ]
  },
  {
   "cell_type": "markdown",
   "metadata": {},
   "source": [
    "It seems like there are 13 categories of features with each feature having different ranges of values "
   ]
  },
  {
   "cell_type": "code",
   "execution_count": 14,
   "metadata": {},
   "outputs": [
    {
     "data": {
      "text/plain": [
       "15.2"
      ]
     },
     "execution_count": 14,
     "metadata": {},
     "output_type": "execute_result"
    }
   ],
   "source": [
    "train_labels[0]"
   ]
  },
  {
   "cell_type": "code",
   "execution_count": 16,
   "metadata": {},
   "outputs": [
    {
     "data": {
      "text/plain": [
       "42.3"
      ]
     },
     "execution_count": 16,
     "metadata": {},
     "output_type": "execute_result"
    }
   ],
   "source": [
    "train_labels[1]"
   ]
  },
  {
   "cell_type": "code",
   "execution_count": 19,
   "metadata": {},
   "outputs": [
    {
     "data": {
      "text/plain": [
       "50.0"
      ]
     },
     "execution_count": 19,
     "metadata": {},
     "output_type": "execute_result"
    }
   ],
   "source": [
    "np.max(train_labels)"
   ]
  },
  {
   "cell_type": "code",
   "execution_count": 23,
   "metadata": {},
   "outputs": [
    {
     "data": {
      "text/plain": [
       "5.0"
      ]
     },
     "execution_count": 23,
     "metadata": {},
     "output_type": "execute_result"
    }
   ],
   "source": [
    "np.min(train_labels)"
   ]
  },
  {
   "cell_type": "markdown",
   "metadata": {},
   "source": [
    "The labels contain the median values of owner occupied homes, in thousands of dollars. \n",
    "\n",
    "This makes sense, since this data was collected in the mid 1970s, if only housing prices were like this nowadays......."
   ]
  },
  {
   "cell_type": "markdown",
   "metadata": {},
   "source": [
    "## Preparing the data"
   ]
  },
  {
   "cell_type": "markdown",
   "metadata": {},
   "source": [
    "Before we can feed the data to the neural net, we have to preprocess the data. Notice that the features were in different ranges of values, we can perform some feature engineering before training to let the neural net have an easier time learning from training data"
   ]
  },
  {
   "cell_type": "markdown",
   "metadata": {},
   "source": [
    "### Feature-wise normalization"
   ]
  },
  {
   "cell_type": "markdown",
   "metadata": {},
   "source": [
    "We will calculate the mean of every column and subtract it from the training data divide it by the standard deviation.\n",
    "\n",
    "This will give us features centered at 0 with a unit std deviation"
   ]
  },
  {
   "cell_type": "code",
   "execution_count": 155,
   "metadata": {},
   "outputs": [],
   "source": [
    "mean = train_data.mean(axis=0)\n",
    "train_data -= mean\n",
    "std_dev = train_data.std(axis=0)\n",
    "train_data /= std_dev"
   ]
  },
  {
   "cell_type": "markdown",
   "metadata": {},
   "source": [
    "We will also normalize the test data, but with the values we calculated from the training data.\n",
    "This is to ensure that we never use any values calculated using the test data so that the test data is not factored into the training of a model"
   ]
  },
  {
   "cell_type": "code",
   "execution_count": 28,
   "metadata": {
    "collapsed": true
   },
   "outputs": [],
   "source": [
    "test_data -= mean\n",
    "test_data /= std_dev"
   ]
  },
  {
   "cell_type": "code",
   "execution_count": 29,
   "metadata": {},
   "outputs": [
    {
     "data": {
      "text/plain": [
       "array([-0.27224633, -0.48361547, -0.43576161, -0.25683275, -0.1652266 ,\n",
       "       -0.1764426 ,  0.81306188,  0.1166983 , -0.62624905, -0.59517003,\n",
       "        1.14850044,  0.44807713,  0.8252202 ])"
      ]
     },
     "execution_count": 29,
     "metadata": {},
     "output_type": "execute_result"
    }
   ],
   "source": [
    "train_data[0]"
   ]
  },
  {
   "cell_type": "markdown",
   "metadata": {},
   "source": [
    "The data is looking better, with this we can start building the model"
   ]
  },
  {
   "cell_type": "markdown",
   "metadata": {},
   "source": [
    "## Model definition"
   ]
  },
  {
   "cell_type": "markdown",
   "metadata": {},
   "source": [
    "Since there is very little data available, if we use a big model, it will be very prone to overfitting to the data. One way to mitigate this would be to use a less layers. We won't have an activation for the last layer because if we did include one, then we would restrict the output of our neural net, for example if sigmoid was used, then we would only get back values of 0 - 1.\n",
    "\n",
    "We will define our model as follows:\n",
    "    - two intermediate layers of 64 neurons with activation function of relu\n",
    "    - output layer of 1 neuron (for the price prediction) with no activation, since this is a prediction for scalar regression (regression for single continuous value)\n",
    "    - optimizer of Adam, loss of mean squared error (for scalar regression), and we will keep track of mean absolute error, which is the absolute value of the distance between the predictions and the targets"
   ]
  },
  {
   "cell_type": "code",
   "execution_count": 126,
   "metadata": {
    "collapsed": true
   },
   "outputs": [],
   "source": [
    "def create_model():\n",
    "    model = models.Sequential()\n",
    "    model.add(layers.Dense(64, activation='relu', input_shape=(13,)))\n",
    "    model.add(layers.Dense(64, activation='relu'))\n",
    "    model.add(layers.Dense(1))\n",
    "    model.compile(optimizer = 'Adam', loss = 'mse', metrics = ['mae'])\n",
    "    return model"
   ]
  },
  {
   "cell_type": "code",
   "execution_count": 40,
   "metadata": {},
   "outputs": [
    {
     "name": "stdout",
     "output_type": "stream",
     "text": [
      "WARNING:tensorflow:From /Users/Kelvin/anaconda3/lib/python3.6/site-packages/keras/backend/tensorflow_backend.py:1349: calling reduce_mean (from tensorflow.python.ops.math_ops) with keep_dims is deprecated and will be removed in a future version.\n",
      "Instructions for updating:\n",
      "keep_dims is deprecated, use keepdims instead\n"
     ]
    },
    {
     "name": "stderr",
     "output_type": "stream",
     "text": [
      "WARNING:tensorflow:From /Users/Kelvin/anaconda3/lib/python3.6/site-packages/keras/backend/tensorflow_backend.py:1349: calling reduce_mean (from tensorflow.python.ops.math_ops) with keep_dims is deprecated and will be removed in a future version.\n",
      "Instructions for updating:\n",
      "keep_dims is deprecated, use keepdims instead\n"
     ]
    },
    {
     "data": {
      "text/plain": [
       "<keras.models.Sequential at 0x115004ac8>"
      ]
     },
     "execution_count": 40,
     "metadata": {},
     "output_type": "execute_result"
    }
   ],
   "source": [
    "create_model()"
   ]
  },
  {
   "cell_type": "markdown",
   "metadata": {},
   "source": [
    "## Validation using K-fold "
   ]
  },
  {
   "cell_type": "markdown",
   "metadata": {},
   "source": [
    "Due to the limited size of the data available, inorder to avoid high variance in the error for validating this model, we will use k-fold validation. Depending on your split of training and validation data, the variance can be very high due to the scarce availability of data."
   ]
  },
  {
   "cell_type": "markdown",
   "metadata": {},
   "source": [
    "### K-fold implementation"
   ]
  },
  {
   "cell_type": "markdown",
   "metadata": {},
   "source": [
    "We will create a K-fold of the training data with K = 4 to get a easy to work with value, typically K = 4 or 5 is used "
   ]
  },
  {
   "cell_type": "code",
   "execution_count": 111,
   "metadata": {},
   "outputs": [],
   "source": [
    "k = 4\n",
    "num_samp_per_fold = len(train_data)// k\n",
    "epochs = 100\n",
    "scores = []"
   ]
  },
  {
   "cell_type": "markdown",
   "metadata": {},
   "source": [
    "We will train the model with 100 epochs and a batch_size of 1 (since we are doing k folds)."
   ]
  },
  {
   "cell_type": "code",
   "execution_count": 112,
   "metadata": {},
   "outputs": [],
   "source": [
    "def train_model():\n",
    "    for i in range(k):\n",
    "        print('Training on fold #', i + 1)\n",
    "        val_data = train_data[i * num_samp_per_fold: (i + 1) * num_samp_per_fold]\n",
    "        val_labels = train_labels[i * num_samp_per_fold: (i + 1) * num_samp_per_fold]\n",
    "        #We concantenate the tensors on the columns from everything excluding the data from the current iteration of the K-fold\n",
    "        partial_train_data = np.concatenate(\n",
    "            [train_data[:i * num_samp_per_fold], \n",
    "            train_data[(i + 1) * num_samp_per_fold:]], \n",
    "            axis = 0)\n",
    "        partial_train_labels = np.concatenate(\n",
    "            [train_labels[:i* num_samp_per_fold],\n",
    "             train_labels[(i + 1) * num_samp_per_fold:]],\n",
    "             axis = 0)\n",
    "        model = create_model()\n",
    "        model.fit(partial_train_data, partial_train_labels, epochs = 100, batch_size = 1)\n",
    "        mse,mae = model.evaluate(val_data, val_labels)\n",
    "        scores.append(mae)\n"
   ]
  },
  {
   "cell_type": "code",
   "execution_count": 113,
   "metadata": {
    "scrolled": false
   },
   "outputs": [
    {
     "name": "stdout",
     "output_type": "stream",
     "text": [
      "Training on fold # 1\n",
      "Epoch 1/100\n",
      "303/303 [==============================] - 2s 8ms/step - loss: 185.5864 - mean_absolute_error: 10.2437\n",
      "Epoch 2/100\n",
      "303/303 [==============================] - 1s 2ms/step - loss: 28.1574 - mean_absolute_error: 3.6570\n",
      "Epoch 3/100\n",
      "303/303 [==============================] - 1s 2ms/step - loss: 21.0205 - mean_absolute_error: 3.1652\n",
      "Epoch 4/100\n",
      "303/303 [==============================] - 1s 2ms/step - loss: 17.8732 - mean_absolute_error: 2.9546\n",
      "Epoch 5/100\n",
      "303/303 [==============================] - 1s 2ms/step - loss: 14.8222 - mean_absolute_error: 2.6792\n",
      "Epoch 6/100\n",
      "303/303 [==============================] - 1s 2ms/step - loss: 13.4552 - mean_absolute_error: 2.5790\n",
      "Epoch 7/100\n",
      "303/303 [==============================] - 1s 2ms/step - loss: 12.2102 - mean_absolute_error: 2.5683\n",
      "Epoch 8/100\n",
      "303/303 [==============================] - 1s 2ms/step - loss: 11.1978 - mean_absolute_error: 2.3687\n",
      "Epoch 9/100\n",
      "303/303 [==============================] - 1s 2ms/step - loss: 11.4434 - mean_absolute_error: 2.4001\n",
      "Epoch 10/100\n",
      "303/303 [==============================] - 1s 2ms/step - loss: 10.8652 - mean_absolute_error: 2.3886\n",
      "Epoch 11/100\n",
      "303/303 [==============================] - 1s 2ms/step - loss: 10.2251 - mean_absolute_error: 2.2780\n",
      "Epoch 12/100\n",
      "303/303 [==============================] - 1s 2ms/step - loss: 10.2458 - mean_absolute_error: 2.2051\n",
      "Epoch 13/100\n",
      "303/303 [==============================] - 1s 2ms/step - loss: 9.8987 - mean_absolute_error: 2.2725\n",
      "Epoch 14/100\n",
      "303/303 [==============================] - 1s 2ms/step - loss: 8.8049 - mean_absolute_error: 2.1174\n",
      "Epoch 15/100\n",
      "303/303 [==============================] - 1s 2ms/step - loss: 9.3202 - mean_absolute_error: 2.2216\n",
      "Epoch 16/100\n",
      "303/303 [==============================] - 1s 2ms/step - loss: 9.1459 - mean_absolute_error: 2.1668\n",
      "Epoch 17/100\n",
      "303/303 [==============================] - 1s 2ms/step - loss: 8.2984 - mean_absolute_error: 2.1190\n",
      "Epoch 18/100\n",
      "303/303 [==============================] - 1s 2ms/step - loss: 8.7117 - mean_absolute_error: 2.1393\n",
      "Epoch 19/100\n",
      "303/303 [==============================] - 1s 4ms/step - loss: 7.9900 - mean_absolute_error: 1.9698\n",
      "Epoch 20/100\n",
      "303/303 [==============================] - 1s 2ms/step - loss: 8.0988 - mean_absolute_error: 2.0104\n",
      "Epoch 21/100\n",
      "303/303 [==============================] - 1s 2ms/step - loss: 7.4725 - mean_absolute_error: 1.9227\n",
      "Epoch 22/100\n",
      "303/303 [==============================] - 1s 2ms/step - loss: 7.6433 - mean_absolute_error: 1.9651\n",
      "Epoch 23/100\n",
      "303/303 [==============================] - 1s 2ms/step - loss: 7.3396 - mean_absolute_error: 1.9319\n",
      "Epoch 24/100\n",
      "303/303 [==============================] - 1s 2ms/step - loss: 7.2916 - mean_absolute_error: 1.9479\n",
      "Epoch 25/100\n",
      "303/303 [==============================] - 1s 2ms/step - loss: 7.6602 - mean_absolute_error: 2.0048\n",
      "Epoch 26/100\n",
      "303/303 [==============================] - 1s 2ms/step - loss: 6.8825 - mean_absolute_error: 1.8492\n",
      "Epoch 27/100\n",
      "303/303 [==============================] - 1s 3ms/step - loss: 6.6051 - mean_absolute_error: 1.8309\n",
      "Epoch 28/100\n",
      "303/303 [==============================] - 1s 2ms/step - loss: 6.8227 - mean_absolute_error: 1.8127\n",
      "Epoch 29/100\n",
      "303/303 [==============================] - 1s 2ms/step - loss: 7.1136 - mean_absolute_error: 1.9574\n",
      "Epoch 30/100\n",
      "303/303 [==============================] - 1s 2ms/step - loss: 6.0959 - mean_absolute_error: 1.6774\n",
      "Epoch 31/100\n",
      "303/303 [==============================] - 1s 3ms/step - loss: 6.2910 - mean_absolute_error: 1.7965\n",
      "Epoch 32/100\n",
      "303/303 [==============================] - 1s 2ms/step - loss: 5.9682 - mean_absolute_error: 1.6747\n",
      "Epoch 33/100\n",
      "303/303 [==============================] - 1s 3ms/step - loss: 5.9657 - mean_absolute_error: 1.7221\n",
      "Epoch 34/100\n",
      "303/303 [==============================] - 1s 2ms/step - loss: 6.1508 - mean_absolute_error: 1.7595\n",
      "Epoch 35/100\n",
      "303/303 [==============================] - 1s 2ms/step - loss: 5.8003 - mean_absolute_error: 1.7221\n",
      "Epoch 36/100\n",
      "303/303 [==============================] - 1s 2ms/step - loss: 5.6824 - mean_absolute_error: 1.7540\n",
      "Epoch 37/100\n",
      "303/303 [==============================] - 1s 2ms/step - loss: 5.7422 - mean_absolute_error: 1.7185\n",
      "Epoch 38/100\n",
      "303/303 [==============================] - 1s 2ms/step - loss: 5.8819 - mean_absolute_error: 1.7577\n",
      "Epoch 39/100\n",
      "303/303 [==============================] - 1s 2ms/step - loss: 5.2747 - mean_absolute_error: 1.6346\n",
      "Epoch 40/100\n",
      "303/303 [==============================] - 1s 3ms/step - loss: 5.3545 - mean_absolute_error: 1.7048TA: 0s - loss: 9.5815 - mean_absolute\n",
      "Epoch 41/100\n",
      "303/303 [==============================] - 1s 2ms/step - loss: 5.1205 - mean_absolute_error: 1.6141\n",
      "Epoch 42/100\n",
      "303/303 [==============================] - 1s 2ms/step - loss: 4.8961 - mean_absolute_error: 1.5827\n",
      "Epoch 43/100\n",
      "303/303 [==============================] - 1s 2ms/step - loss: 4.8070 - mean_absolute_error: 1.5701\n",
      "Epoch 44/100\n",
      "303/303 [==============================] - 1s 2ms/step - loss: 4.4795 - mean_absolute_error: 1.5834\n",
      "Epoch 45/100\n",
      "303/303 [==============================] - 1s 2ms/step - loss: 4.8416 - mean_absolute_error: 1.5524\n",
      "Epoch 46/100\n",
      "303/303 [==============================] - 1s 2ms/step - loss: 4.4181 - mean_absolute_error: 1.5454\n",
      "Epoch 47/100\n",
      "303/303 [==============================] - 1s 2ms/step - loss: 4.6054 - mean_absolute_error: 1.5503\n",
      "Epoch 48/100\n",
      "303/303 [==============================] - 1s 2ms/step - loss: 3.9541 - mean_absolute_error: 1.4447\n",
      "Epoch 49/100\n",
      "303/303 [==============================] - 1s 2ms/step - loss: 4.3959 - mean_absolute_error: 1.5734\n",
      "Epoch 50/100\n",
      "303/303 [==============================] - 1s 2ms/step - loss: 4.5868 - mean_absolute_error: 1.5748\n",
      "Epoch 51/100\n",
      "303/303 [==============================] - 1s 2ms/step - loss: 4.2318 - mean_absolute_error: 1.5102\n",
      "Epoch 52/100\n",
      "303/303 [==============================] - 1s 2ms/step - loss: 3.8808 - mean_absolute_error: 1.4292\n",
      "Epoch 53/100\n",
      "303/303 [==============================] - 1s 2ms/step - loss: 4.2359 - mean_absolute_error: 1.4675\n",
      "Epoch 54/100\n",
      "303/303 [==============================] - 1s 2ms/step - loss: 4.2860 - mean_absolute_error: 1.4953\n",
      "Epoch 55/100\n",
      "303/303 [==============================] - 1s 2ms/step - loss: 4.0016 - mean_absolute_error: 1.4703\n",
      "Epoch 56/100\n",
      "303/303 [==============================] - 1s 2ms/step - loss: 3.6184 - mean_absolute_error: 1.3735\n",
      "Epoch 57/100\n",
      "303/303 [==============================] - 1s 2ms/step - loss: 3.5287 - mean_absolute_error: 1.4506\n",
      "Epoch 58/100\n",
      "303/303 [==============================] - 1s 2ms/step - loss: 3.8980 - mean_absolute_error: 1.4774\n",
      "Epoch 59/100\n",
      "303/303 [==============================] - 1s 3ms/step - loss: 3.5283 - mean_absolute_error: 1.4148\n",
      "Epoch 60/100\n",
      "303/303 [==============================] - 1s 3ms/step - loss: 4.0788 - mean_absolute_error: 1.4948\n",
      "Epoch 61/100\n",
      "303/303 [==============================] - 1s 3ms/step - loss: 3.1682 - mean_absolute_error: 1.3001\n",
      "Epoch 62/100\n",
      "303/303 [==============================] - 1s 3ms/step - loss: 3.3269 - mean_absolute_error: 1.4099\n",
      "Epoch 63/100\n",
      "303/303 [==============================] - 1s 3ms/step - loss: 3.6114 - mean_absolute_error: 1.4203\n",
      "Epoch 64/100\n",
      "303/303 [==============================] - 1s 2ms/step - loss: 3.4286 - mean_absolute_error: 1.3600\n",
      "Epoch 65/100\n",
      "303/303 [==============================] - 1s 3ms/step - loss: 3.3728 - mean_absolute_error: 1.3735\n",
      "Epoch 66/100\n",
      "303/303 [==============================] - 1s 3ms/step - loss: 3.2606 - mean_absolute_error: 1.3769\n",
      "Epoch 67/100\n",
      "303/303 [==============================] - 1s 3ms/step - loss: 3.4979 - mean_absolute_error: 1.4275\n",
      "Epoch 68/100\n",
      "303/303 [==============================] - 1s 3ms/step - loss: 3.2214 - mean_absolute_error: 1.3345\n",
      "Epoch 69/100\n",
      "303/303 [==============================] - 1s 2ms/step - loss: 2.9493 - mean_absolute_error: 1.3121\n",
      "Epoch 70/100\n",
      "303/303 [==============================] - 1s 2ms/step - loss: 3.0616 - mean_absolute_error: 1.3367\n",
      "Epoch 71/100\n",
      "303/303 [==============================] - 1s 2ms/step - loss: 3.0193 - mean_absolute_error: 1.3027\n",
      "Epoch 72/100\n"
     ]
    },
    {
     "name": "stdout",
     "output_type": "stream",
     "text": [
      "303/303 [==============================] - 1s 2ms/step - loss: 3.0525 - mean_absolute_error: 1.3291\n",
      "Epoch 73/100\n",
      "303/303 [==============================] - 1s 3ms/step - loss: 3.0787 - mean_absolute_error: 1.3078\n",
      "Epoch 74/100\n",
      "303/303 [==============================] - 1s 2ms/step - loss: 2.9431 - mean_absolute_error: 1.2899\n",
      "Epoch 75/100\n",
      "303/303 [==============================] - 1s 2ms/step - loss: 3.1607 - mean_absolute_error: 1.3192\n",
      "Epoch 76/100\n",
      "303/303 [==============================] - 1s 2ms/step - loss: 2.8635 - mean_absolute_error: 1.2715\n",
      "Epoch 77/100\n",
      "303/303 [==============================] - 1s 2ms/step - loss: 2.7719 - mean_absolute_error: 1.2368\n",
      "Epoch 78/100\n",
      "303/303 [==============================] - 1s 2ms/step - loss: 2.5630 - mean_absolute_error: 1.2112\n",
      "Epoch 79/100\n",
      "303/303 [==============================] - 1s 2ms/step - loss: 3.1916 - mean_absolute_error: 1.3311\n",
      "Epoch 80/100\n",
      "303/303 [==============================] - 1s 2ms/step - loss: 2.8179 - mean_absolute_error: 1.2477\n",
      "Epoch 81/100\n",
      "303/303 [==============================] - 1s 2ms/step - loss: 2.6887 - mean_absolute_error: 1.2453\n",
      "Epoch 82/100\n",
      "303/303 [==============================] - 1s 3ms/step - loss: 2.6429 - mean_absolute_error: 1.2163\n",
      "Epoch 83/100\n",
      "303/303 [==============================] - 1s 2ms/step - loss: 2.7679 - mean_absolute_error: 1.2316\n",
      "Epoch 84/100\n",
      "303/303 [==============================] - 1s 4ms/step - loss: 2.6786 - mean_absolute_error: 1.2384\n",
      "Epoch 85/100\n",
      "303/303 [==============================] - 1s 3ms/step - loss: 2.5781 - mean_absolute_error: 1.2424\n",
      "Epoch 86/100\n",
      "303/303 [==============================] - 1s 2ms/step - loss: 2.5330 - mean_absolute_error: 1.1953\n",
      "Epoch 87/100\n",
      "303/303 [==============================] - 1s 3ms/step - loss: 2.2226 - mean_absolute_error: 1.1543\n",
      "Epoch 88/100\n",
      "303/303 [==============================] - 1s 4ms/step - loss: 2.6528 - mean_absolute_error: 1.1853\n",
      "Epoch 89/100\n",
      "303/303 [==============================] - 1s 3ms/step - loss: 2.6451 - mean_absolute_error: 1.2266A: 1s - loss: 0.9975 - mean_absolute_error: 0.829 - ETA: 1s - loss: 1.3999 - mean_absol\n",
      "Epoch 90/100\n",
      "303/303 [==============================] - 1s 3ms/step - loss: 2.7732 - mean_absolute_error: 1.2539\n",
      "Epoch 91/100\n",
      "303/303 [==============================] - 1s 3ms/step - loss: 2.2578 - mean_absolute_error: 1.0943\n",
      "Epoch 92/100\n",
      "303/303 [==============================] - 1s 2ms/step - loss: 2.1838 - mean_absolute_error: 1.1339\n",
      "Epoch 93/100\n",
      "303/303 [==============================] - 1s 2ms/step - loss: 1.9961 - mean_absolute_error: 1.0717\n",
      "Epoch 94/100\n",
      "303/303 [==============================] - 1s 2ms/step - loss: 2.0977 - mean_absolute_error: 1.0980\n",
      "Epoch 95/100\n",
      "303/303 [==============================] - 1s 2ms/step - loss: 2.2758 - mean_absolute_error: 1.1437\n",
      "Epoch 96/100\n",
      "303/303 [==============================] - 1s 2ms/step - loss: 2.0775 - mean_absolute_error: 1.0713\n",
      "Epoch 97/100\n",
      "303/303 [==============================] - 1s 2ms/step - loss: 2.5110 - mean_absolute_error: 1.1851\n",
      "Epoch 98/100\n",
      "303/303 [==============================] - 1s 2ms/step - loss: 2.1936 - mean_absolute_error: 1.1033\n",
      "Epoch 99/100\n",
      "303/303 [==============================] - 1s 2ms/step - loss: 2.3808 - mean_absolute_error: 1.1782\n",
      "Epoch 100/100\n",
      "303/303 [==============================] - 1s 2ms/step - loss: 1.8461 - mean_absolute_error: 1.0413\n",
      "101/101 [==============================] - 1s 5ms/step\n",
      "Training on fold # 2\n",
      "Epoch 1/100\n",
      "303/303 [==============================] - 2s 7ms/step - loss: 209.6161 - mean_absolute_error: 10.6468\n",
      "Epoch 2/100\n",
      "303/303 [==============================] - 1s 2ms/step - loss: 26.5609 - mean_absolute_error: 3.5549\n",
      "Epoch 3/100\n",
      "303/303 [==============================] - 1s 3ms/step - loss: 18.2326 - mean_absolute_error: 2.8937\n",
      "Epoch 4/100\n",
      "303/303 [==============================] - 1s 3ms/step - loss: 15.4286 - mean_absolute_error: 2.7291\n",
      "Epoch 5/100\n",
      "303/303 [==============================] - 1s 3ms/step - loss: 13.7205 - mean_absolute_error: 2.5953\n",
      "Epoch 6/100\n",
      "303/303 [==============================] - 1s 2ms/step - loss: 12.7167 - mean_absolute_error: 2.4776\n",
      "Epoch 7/100\n",
      "303/303 [==============================] - 1s 2ms/step - loss: 11.8322 - mean_absolute_error: 2.4254\n",
      "Epoch 8/100\n",
      "303/303 [==============================] - 1s 2ms/step - loss: 10.9156 - mean_absolute_error: 2.3210\n",
      "Epoch 9/100\n",
      "303/303 [==============================] - 1s 2ms/step - loss: 10.3549 - mean_absolute_error: 2.2270: 0s - loss: 12.3826 - mean_abso\n",
      "Epoch 10/100\n",
      "303/303 [==============================] - 1s 2ms/step - loss: 10.6242 - mean_absolute_error: 2.2673\n",
      "Epoch 11/100\n",
      "303/303 [==============================] - 1s 2ms/step - loss: 10.0692 - mean_absolute_error: 2.2422\n",
      "Epoch 12/100\n",
      "303/303 [==============================] - 1s 2ms/step - loss: 9.6279 - mean_absolute_error: 2.2011\n",
      "Epoch 13/100\n",
      "303/303 [==============================] - 1s 3ms/step - loss: 9.0598 - mean_absolute_error: 2.1116\n",
      "Epoch 14/100\n",
      "303/303 [==============================] - 1s 3ms/step - loss: 9.3301 - mean_absolute_error: 2.1285\n",
      "Epoch 15/100\n",
      "303/303 [==============================] - 1s 2ms/step - loss: 8.8721 - mean_absolute_error: 2.0717\n",
      "Epoch 16/100\n",
      "303/303 [==============================] - 1s 2ms/step - loss: 9.0183 - mean_absolute_error: 2.1666\n",
      "Epoch 17/100\n",
      "303/303 [==============================] - 1s 2ms/step - loss: 8.5086 - mean_absolute_error: 2.0322\n",
      "Epoch 18/100\n",
      "303/303 [==============================] - 1s 2ms/step - loss: 8.0023 - mean_absolute_error: 1.9975\n",
      "Epoch 19/100\n",
      "303/303 [==============================] - 1s 2ms/step - loss: 8.3494 - mean_absolute_error: 2.0738\n",
      "Epoch 20/100\n",
      "303/303 [==============================] - 1s 2ms/step - loss: 7.8348 - mean_absolute_error: 2.0749\n",
      "Epoch 21/100\n",
      "303/303 [==============================] - 1s 2ms/step - loss: 7.6584 - mean_absolute_error: 1.9639\n",
      "Epoch 22/100\n",
      "303/303 [==============================] - 1s 2ms/step - loss: 7.4450 - mean_absolute_error: 1.9495\n",
      "Epoch 23/100\n",
      "303/303 [==============================] - 1s 2ms/step - loss: 6.8669 - mean_absolute_error: 1.8204\n",
      "Epoch 24/100\n",
      "303/303 [==============================] - 1s 2ms/step - loss: 7.3288 - mean_absolute_error: 1.9388\n",
      "Epoch 25/100\n",
      "303/303 [==============================] - 1s 3ms/step - loss: 6.5670 - mean_absolute_error: 1.8412\n",
      "Epoch 26/100\n",
      "303/303 [==============================] - 1s 2ms/step - loss: 6.4895 - mean_absolute_error: 1.8251\n",
      "Epoch 27/100\n",
      "303/303 [==============================] - 1s 2ms/step - loss: 6.6577 - mean_absolute_error: 1.8058\n",
      "Epoch 28/100\n",
      "303/303 [==============================] - 1s 2ms/step - loss: 6.5578 - mean_absolute_error: 1.8970\n",
      "Epoch 29/100\n",
      "303/303 [==============================] - 1s 2ms/step - loss: 6.0992 - mean_absolute_error: 1.7708\n",
      "Epoch 30/100\n",
      "303/303 [==============================] - 1s 3ms/step - loss: 6.2832 - mean_absolute_error: 1.8355\n",
      "Epoch 31/100\n",
      "303/303 [==============================] - 1s 3ms/step - loss: 5.8482 - mean_absolute_error: 1.7274\n",
      "Epoch 32/100\n",
      "303/303 [==============================] - 1s 2ms/step - loss: 5.7114 - mean_absolute_error: 1.7314\n",
      "Epoch 33/100\n",
      "303/303 [==============================] - 1s 2ms/step - loss: 5.5568 - mean_absolute_error: 1.6967\n",
      "Epoch 34/100\n",
      "303/303 [==============================] - 1s 3ms/step - loss: 5.1952 - mean_absolute_error: 1.6447\n",
      "Epoch 35/100\n",
      "303/303 [==============================] - 1s 2ms/step - loss: 4.8707 - mean_absolute_error: 1.6557\n",
      "Epoch 36/100\n",
      "303/303 [==============================] - 1s 2ms/step - loss: 5.3080 - mean_absolute_error: 1.6959\n",
      "Epoch 37/100\n",
      "303/303 [==============================] - 1s 2ms/step - loss: 5.1747 - mean_absolute_error: 1.6753\n",
      "Epoch 38/100\n",
      "303/303 [==============================] - 1s 3ms/step - loss: 4.7770 - mean_absolute_error: 1.6025\n",
      "Epoch 39/100\n",
      "303/303 [==============================] - 1s 3ms/step - loss: 5.5056 - mean_absolute_error: 1.7225\n",
      "Epoch 40/100\n",
      "303/303 [==============================] - 1s 3ms/step - loss: 4.8710 - mean_absolute_error: 1.5741\n",
      "Epoch 41/100\n",
      "303/303 [==============================] - 1s 2ms/step - loss: 4.9876 - mean_absolute_error: 1.6320\n",
      "Epoch 42/100\n"
     ]
    },
    {
     "name": "stdout",
     "output_type": "stream",
     "text": [
      "303/303 [==============================] - 1s 2ms/step - loss: 4.9762 - mean_absolute_error: 1.5833\n",
      "Epoch 43/100\n",
      "303/303 [==============================] - 1s 2ms/step - loss: 4.4427 - mean_absolute_error: 1.5075\n",
      "Epoch 44/100\n",
      "303/303 [==============================] - 1s 2ms/step - loss: 4.4059 - mean_absolute_error: 1.5610\n",
      "Epoch 45/100\n",
      "303/303 [==============================] - 1s 2ms/step - loss: 4.3019 - mean_absolute_error: 1.4768\n",
      "Epoch 46/100\n",
      "303/303 [==============================] - 1s 3ms/step - loss: 4.1232 - mean_absolute_error: 1.4813\n",
      "Epoch 47/100\n",
      "303/303 [==============================] - 1s 2ms/step - loss: 4.0118 - mean_absolute_error: 1.4862\n",
      "Epoch 48/100\n",
      "303/303 [==============================] - 1s 2ms/step - loss: 3.9976 - mean_absolute_error: 1.4809\n",
      "Epoch 49/100\n",
      "303/303 [==============================] - 1s 2ms/step - loss: 3.8002 - mean_absolute_error: 1.4357\n",
      "Epoch 50/100\n",
      "303/303 [==============================] - 1s 2ms/step - loss: 3.9566 - mean_absolute_error: 1.4818\n",
      "Epoch 51/100\n",
      "303/303 [==============================] - 1s 2ms/step - loss: 3.7035 - mean_absolute_error: 1.4178\n",
      "Epoch 52/100\n",
      "303/303 [==============================] - 1s 2ms/step - loss: 3.5468 - mean_absolute_error: 1.3947\n",
      "Epoch 53/100\n",
      "303/303 [==============================] - 1s 3ms/step - loss: 3.4876 - mean_absolute_error: 1.4064\n",
      "Epoch 54/100\n",
      "303/303 [==============================] - 1s 2ms/step - loss: 3.4448 - mean_absolute_error: 1.3528\n",
      "Epoch 55/100\n",
      "303/303 [==============================] - 1s 2ms/step - loss: 3.4223 - mean_absolute_error: 1.4073\n",
      "Epoch 56/100\n",
      "303/303 [==============================] - 1s 2ms/step - loss: 3.4211 - mean_absolute_error: 1.3827\n",
      "Epoch 57/100\n",
      "303/303 [==============================] - 1s 2ms/step - loss: 3.4886 - mean_absolute_error: 1.4233\n",
      "Epoch 58/100\n",
      "303/303 [==============================] - 1s 2ms/step - loss: 3.4345 - mean_absolute_error: 1.4114\n",
      "Epoch 59/100\n",
      "303/303 [==============================] - 1s 2ms/step - loss: 3.4176 - mean_absolute_error: 1.4051\n",
      "Epoch 60/100\n",
      "303/303 [==============================] - 1s 2ms/step - loss: 3.2872 - mean_absolute_error: 1.3308\n",
      "Epoch 61/100\n",
      "303/303 [==============================] - 1s 2ms/step - loss: 2.8709 - mean_absolute_error: 1.2673\n",
      "Epoch 62/100\n",
      "303/303 [==============================] - 1s 2ms/step - loss: 3.2526 - mean_absolute_error: 1.3247\n",
      "Epoch 63/100\n",
      "303/303 [==============================] - 1s 3ms/step - loss: 2.7499 - mean_absolute_error: 1.2507\n",
      "Epoch 64/100\n",
      "303/303 [==============================] - 1s 4ms/step - loss: 3.2996 - mean_absolute_error: 1.3636\n",
      "Epoch 65/100\n",
      "303/303 [==============================] - 1s 3ms/step - loss: 2.7943 - mean_absolute_error: 1.2182\n",
      "Epoch 66/100\n",
      "303/303 [==============================] - 1s 2ms/step - loss: 2.8952 - mean_absolute_error: 1.2748A: 0s - loss: 4.0526 - mean_absolute_e\n",
      "Epoch 67/100\n",
      "303/303 [==============================] - 1s 2ms/step - loss: 2.6299 - mean_absolute_error: 1.2269\n",
      "Epoch 68/100\n",
      "303/303 [==============================] - 1s 2ms/step - loss: 2.6824 - mean_absolute_error: 1.2335\n",
      "Epoch 69/100\n",
      "303/303 [==============================] - 1s 2ms/step - loss: 2.6903 - mean_absolute_error: 1.2198\n",
      "Epoch 70/100\n",
      "303/303 [==============================] - 1s 2ms/step - loss: 2.6954 - mean_absolute_error: 1.1853\n",
      "Epoch 71/100\n",
      "303/303 [==============================] - 1s 3ms/step - loss: 2.8606 - mean_absolute_error: 1.2606\n",
      "Epoch 72/100\n",
      "303/303 [==============================] - 1s 3ms/step - loss: 2.8622 - mean_absolute_error: 1.2685\n",
      "Epoch 73/100\n",
      "303/303 [==============================] - 1s 2ms/step - loss: 2.3462 - mean_absolute_error: 1.1528\n",
      "Epoch 74/100\n",
      "303/303 [==============================] - 1s 2ms/step - loss: 2.2137 - mean_absolute_error: 1.1542\n",
      "Epoch 75/100\n",
      "303/303 [==============================] - 1s 2ms/step - loss: 2.4759 - mean_absolute_error: 1.1941\n",
      "Epoch 76/100\n",
      "303/303 [==============================] - 1s 2ms/step - loss: 2.5571 - mean_absolute_error: 1.1713\n",
      "Epoch 77/100\n",
      "303/303 [==============================] - 1s 2ms/step - loss: 2.4793 - mean_absolute_error: 1.1624\n",
      "Epoch 78/100\n",
      "303/303 [==============================] - 1s 2ms/step - loss: 2.4929 - mean_absolute_error: 1.1905\n",
      "Epoch 79/100\n",
      "303/303 [==============================] - 1s 3ms/step - loss: 2.0465 - mean_absolute_error: 1.0841\n",
      "Epoch 80/100\n",
      "303/303 [==============================] - 1s 4ms/step - loss: 2.6460 - mean_absolute_error: 1.2214\n",
      "Epoch 81/100\n",
      "303/303 [==============================] - 1s 3ms/step - loss: 2.2449 - mean_absolute_error: 1.1283\n",
      "Epoch 82/100\n",
      "303/303 [==============================] - 1s 4ms/step - loss: 2.3187 - mean_absolute_error: 1.1466\n",
      "Epoch 83/100\n",
      "303/303 [==============================] - 1s 4ms/step - loss: 2.1631 - mean_absolute_error: 1.1115\n",
      "Epoch 84/100\n",
      "303/303 [==============================] - 1s 3ms/step - loss: 2.0980 - mean_absolute_error: 1.0762\n",
      "Epoch 85/100\n",
      "303/303 [==============================] - 1s 2ms/step - loss: 1.9671 - mean_absolute_error: 1.0635\n",
      "Epoch 86/100\n",
      "303/303 [==============================] - 1s 2ms/step - loss: 2.3732 - mean_absolute_error: 1.1443\n",
      "Epoch 87/100\n",
      "303/303 [==============================] - 1s 2ms/step - loss: 2.3979 - mean_absolute_error: 1.1610\n",
      "Epoch 88/100\n",
      "303/303 [==============================] - 1s 2ms/step - loss: 1.9573 - mean_absolute_error: 1.0800\n",
      "Epoch 89/100\n",
      "303/303 [==============================] - 1s 2ms/step - loss: 1.8429 - mean_absolute_error: 1.0587\n",
      "Epoch 90/100\n",
      "303/303 [==============================] - 1s 3ms/step - loss: 1.5950 - mean_absolute_error: 0.9632\n",
      "Epoch 91/100\n",
      "303/303 [==============================] - 1s 2ms/step - loss: 1.8640 - mean_absolute_error: 1.0086\n",
      "Epoch 92/100\n",
      "303/303 [==============================] - 1s 3ms/step - loss: 2.1337 - mean_absolute_error: 1.0724A: 0s - loss: 2.2347 - mean_absolute_error: 1.0\n",
      "Epoch 93/100\n",
      "303/303 [==============================] - 1s 2ms/step - loss: 2.1618 - mean_absolute_error: 1.0912\n",
      "Epoch 94/100\n",
      "303/303 [==============================] - 1s 3ms/step - loss: 2.0300 - mean_absolute_error: 1.0939\n",
      "Epoch 95/100\n",
      "303/303 [==============================] - 1s 2ms/step - loss: 1.8504 - mean_absolute_error: 1.0236\n",
      "Epoch 96/100\n",
      "303/303 [==============================] - 1s 3ms/step - loss: 2.0902 - mean_absolute_error: 1.1049\n",
      "Epoch 97/100\n",
      "303/303 [==============================] - 1s 2ms/step - loss: 2.8422 - mean_absolute_error: 1.2137\n",
      "Epoch 98/100\n",
      "303/303 [==============================] - 1s 3ms/step - loss: 1.7244 - mean_absolute_error: 0.9536\n",
      "Epoch 99/100\n",
      "303/303 [==============================] - 1s 3ms/step - loss: 1.6651 - mean_absolute_error: 0.9675\n",
      "Epoch 100/100\n",
      "303/303 [==============================] - 1s 3ms/step - loss: 1.6568 - mean_absolute_error: 0.9780\n",
      "101/101 [==============================] - 1s 6ms/step\n",
      "Training on fold # 3\n",
      "Epoch 1/100\n",
      "303/303 [==============================] - 2s 7ms/step - loss: 228.6321 - mean_absolute_error: 11.1637\n",
      "Epoch 2/100\n",
      "303/303 [==============================] - 1s 3ms/step - loss: 24.6485 - mean_absolute_error: 3.5459\n",
      "Epoch 3/100\n",
      "303/303 [==============================] - 1s 3ms/step - loss: 17.8525 - mean_absolute_error: 2.9196\n",
      "Epoch 4/100\n",
      "303/303 [==============================] - 1s 3ms/step - loss: 14.1301 - mean_absolute_error: 2.6583\n",
      "Epoch 5/100\n",
      "303/303 [==============================] - 1s 2ms/step - loss: 12.1229 - mean_absolute_error: 2.4623\n",
      "Epoch 6/100\n",
      "303/303 [==============================] - 1s 3ms/step - loss: 10.2796 - mean_absolute_error: 2.3097\n",
      "Epoch 7/100\n",
      "303/303 [==============================] - 1s 2ms/step - loss: 10.4548 - mean_absolute_error: 2.3284\n",
      "Epoch 8/100\n",
      "303/303 [==============================] - 1s 2ms/step - loss: 9.7898 - mean_absolute_error: 2.2290\n",
      "Epoch 9/100\n",
      "303/303 [==============================] - 1s 3ms/step - loss: 9.2293 - mean_absolute_error: 2.2314\n",
      "Epoch 10/100\n",
      "303/303 [==============================] - 1s 3ms/step - loss: 8.7992 - mean_absolute_error: 2.1673\n",
      "Epoch 11/100\n",
      "303/303 [==============================] - 1s 3ms/step - loss: 8.3900 - mean_absolute_error: 2.1422\n",
      "Epoch 12/100\n",
      "303/303 [==============================] - 1s 3ms/step - loss: 7.9854 - mean_absolute_error: 2.0694\n",
      "Epoch 13/100\n"
     ]
    },
    {
     "name": "stdout",
     "output_type": "stream",
     "text": [
      "303/303 [==============================] - 1s 2ms/step - loss: 7.6369 - mean_absolute_error: 2.0424\n",
      "Epoch 14/100\n",
      "303/303 [==============================] - 1s 2ms/step - loss: 7.5705 - mean_absolute_error: 2.0569\n",
      "Epoch 15/100\n",
      "303/303 [==============================] - 1s 2ms/step - loss: 7.3542 - mean_absolute_error: 1.9531\n",
      "Epoch 16/100\n",
      "303/303 [==============================] - 1s 2ms/step - loss: 6.9107 - mean_absolute_error: 1.9461\n",
      "Epoch 17/100\n",
      "303/303 [==============================] - 1s 2ms/step - loss: 6.6583 - mean_absolute_error: 1.9054\n",
      "Epoch 18/100\n",
      "303/303 [==============================] - 1s 2ms/step - loss: 6.6002 - mean_absolute_error: 1.8882\n",
      "Epoch 19/100\n",
      "303/303 [==============================] - 1s 2ms/step - loss: 6.5164 - mean_absolute_error: 1.9057\n",
      "Epoch 20/100\n",
      "303/303 [==============================] - 1s 2ms/step - loss: 6.3908 - mean_absolute_error: 1.8492\n",
      "Epoch 21/100\n",
      "303/303 [==============================] - 1s 2ms/step - loss: 5.7245 - mean_absolute_error: 1.8090\n",
      "Epoch 22/100\n",
      "303/303 [==============================] - 1s 2ms/step - loss: 5.5468 - mean_absolute_error: 1.7784\n",
      "Epoch 23/100\n",
      "303/303 [==============================] - 1s 2ms/step - loss: 5.3292 - mean_absolute_error: 1.7316\n",
      "Epoch 24/100\n",
      "303/303 [==============================] - 1s 2ms/step - loss: 5.5854 - mean_absolute_error: 1.8188\n",
      "Epoch 25/100\n",
      "303/303 [==============================] - 1s 2ms/step - loss: 5.4820 - mean_absolute_error: 1.7053\n",
      "Epoch 26/100\n",
      "303/303 [==============================] - 1s 2ms/step - loss: 5.0851 - mean_absolute_error: 1.6949\n",
      "Epoch 27/100\n",
      "303/303 [==============================] - 1s 2ms/step - loss: 4.9230 - mean_absolute_error: 1.6964\n",
      "Epoch 28/100\n",
      "303/303 [==============================] - 1s 2ms/step - loss: 5.1200 - mean_absolute_error: 1.6709\n",
      "Epoch 29/100\n",
      "303/303 [==============================] - 1s 2ms/step - loss: 4.9619 - mean_absolute_error: 1.6579\n",
      "Epoch 30/100\n",
      "303/303 [==============================] - 1s 2ms/step - loss: 4.5982 - mean_absolute_error: 1.6534\n",
      "Epoch 31/100\n",
      "303/303 [==============================] - 1s 2ms/step - loss: 4.7776 - mean_absolute_error: 1.6427\n",
      "Epoch 32/100\n",
      "303/303 [==============================] - 1s 2ms/step - loss: 4.4537 - mean_absolute_error: 1.6080\n",
      "Epoch 33/100\n",
      "303/303 [==============================] - 1s 2ms/step - loss: 4.2558 - mean_absolute_error: 1.5307\n",
      "Epoch 34/100\n",
      "303/303 [==============================] - 1s 2ms/step - loss: 4.8127 - mean_absolute_error: 1.6690\n",
      "Epoch 35/100\n",
      "303/303 [==============================] - 1s 2ms/step - loss: 4.3842 - mean_absolute_error: 1.5559\n",
      "Epoch 36/100\n",
      "303/303 [==============================] - 1s 2ms/step - loss: 4.0750 - mean_absolute_error: 1.4866\n",
      "Epoch 37/100\n",
      "303/303 [==============================] - 1s 2ms/step - loss: 4.3025 - mean_absolute_error: 1.5578\n",
      "Epoch 38/100\n",
      "303/303 [==============================] - 1s 2ms/step - loss: 4.2125 - mean_absolute_error: 1.5005\n",
      "Epoch 39/100\n",
      "303/303 [==============================] - 1s 2ms/step - loss: 4.1271 - mean_absolute_error: 1.4979\n",
      "Epoch 40/100\n",
      "303/303 [==============================] - 1s 2ms/step - loss: 4.0881 - mean_absolute_error: 1.5559\n",
      "Epoch 41/100\n",
      "303/303 [==============================] - 1s 2ms/step - loss: 3.7762 - mean_absolute_error: 1.4572\n",
      "Epoch 42/100\n",
      "303/303 [==============================] - 1s 2ms/step - loss: 3.5507 - mean_absolute_error: 1.4403\n",
      "Epoch 43/100\n",
      "303/303 [==============================] - 1s 2ms/step - loss: 3.7753 - mean_absolute_error: 1.4778\n",
      "Epoch 44/100\n",
      "303/303 [==============================] - 1s 2ms/step - loss: 3.5560 - mean_absolute_error: 1.3704\n",
      "Epoch 45/100\n",
      "303/303 [==============================] - 1s 2ms/step - loss: 3.7316 - mean_absolute_error: 1.4468\n",
      "Epoch 46/100\n",
      "303/303 [==============================] - 1s 2ms/step - loss: 3.5023 - mean_absolute_error: 1.3934\n",
      "Epoch 47/100\n",
      "303/303 [==============================] - 1s 2ms/step - loss: 3.5274 - mean_absolute_error: 1.4107\n",
      "Epoch 48/100\n",
      "303/303 [==============================] - 1s 2ms/step - loss: 3.4693 - mean_absolute_error: 1.4194\n",
      "Epoch 49/100\n",
      "303/303 [==============================] - 1s 2ms/step - loss: 3.2958 - mean_absolute_error: 1.4007\n",
      "Epoch 50/100\n",
      "303/303 [==============================] - 1s 2ms/step - loss: 3.2353 - mean_absolute_error: 1.3072\n",
      "Epoch 51/100\n",
      "303/303 [==============================] - 1s 2ms/step - loss: 3.7143 - mean_absolute_error: 1.4426\n",
      "Epoch 52/100\n",
      "303/303 [==============================] - 1s 2ms/step - loss: 3.1633 - mean_absolute_error: 1.3174\n",
      "Epoch 53/100\n",
      "303/303 [==============================] - 1s 2ms/step - loss: 3.1965 - mean_absolute_error: 1.3364\n",
      "Epoch 54/100\n",
      "303/303 [==============================] - 1s 2ms/step - loss: 2.9430 - mean_absolute_error: 1.2990\n",
      "Epoch 55/100\n",
      "303/303 [==============================] - 1s 2ms/step - loss: 3.4321 - mean_absolute_error: 1.4046\n",
      "Epoch 56/100\n",
      "303/303 [==============================] - 1s 3ms/step - loss: 3.2191 - mean_absolute_error: 1.3354\n",
      "Epoch 57/100\n",
      "303/303 [==============================] - 1s 3ms/step - loss: 2.8954 - mean_absolute_error: 1.2621\n",
      "Epoch 58/100\n",
      "303/303 [==============================] - 1s 3ms/step - loss: 3.2286 - mean_absolute_error: 1.3424\n",
      "Epoch 59/100\n",
      "303/303 [==============================] - 1s 2ms/step - loss: 2.8634 - mean_absolute_error: 1.2824\n",
      "Epoch 60/100\n",
      "303/303 [==============================] - 1s 2ms/step - loss: 3.3461 - mean_absolute_error: 1.3907\n",
      "Epoch 61/100\n",
      "303/303 [==============================] - 1s 2ms/step - loss: 2.6218 - mean_absolute_error: 1.2210\n",
      "Epoch 62/100\n",
      "303/303 [==============================] - 1s 3ms/step - loss: 2.6703 - mean_absolute_error: 1.1981\n",
      "Epoch 63/100\n",
      "303/303 [==============================] - 1s 3ms/step - loss: 2.6779 - mean_absolute_error: 1.2249\n",
      "Epoch 64/100\n",
      "303/303 [==============================] - 1s 2ms/step - loss: 2.5642 - mean_absolute_error: 1.2005\n",
      "Epoch 65/100\n",
      "303/303 [==============================] - 1s 3ms/step - loss: 2.4276 - mean_absolute_error: 1.1699\n",
      "Epoch 66/100\n",
      "303/303 [==============================] - 1s 4ms/step - loss: 2.4615 - mean_absolute_error: 1.1792\n",
      "Epoch 67/100\n",
      "303/303 [==============================] - 1s 4ms/step - loss: 2.6691 - mean_absolute_error: 1.2180\n",
      "Epoch 68/100\n",
      "303/303 [==============================] - 1s 4ms/step - loss: 2.7219 - mean_absolute_error: 1.2195\n",
      "Epoch 69/100\n",
      "303/303 [==============================] - 1s 2ms/step - loss: 2.6466 - mean_absolute_error: 1.2401\n",
      "Epoch 70/100\n",
      "303/303 [==============================] - 1s 2ms/step - loss: 2.7130 - mean_absolute_error: 1.2438\n",
      "Epoch 71/100\n",
      "303/303 [==============================] - 1s 2ms/step - loss: 2.4078 - mean_absolute_error: 1.1391\n",
      "Epoch 72/100\n",
      "303/303 [==============================] - 1s 3ms/step - loss: 2.4676 - mean_absolute_error: 1.1894\n",
      "Epoch 73/100\n",
      "303/303 [==============================] - 1s 3ms/step - loss: 2.4056 - mean_absolute_error: 1.1476\n",
      "Epoch 74/100\n",
      "303/303 [==============================] - 1s 4ms/step - loss: 2.3627 - mean_absolute_error: 1.1583\n",
      "Epoch 75/100\n",
      "303/303 [==============================] - 1s 3ms/step - loss: 2.5205 - mean_absolute_error: 1.2184\n",
      "Epoch 76/100\n",
      "303/303 [==============================] - 1s 3ms/step - loss: 2.3198 - mean_absolute_error: 1.1195\n",
      "Epoch 77/100\n",
      "303/303 [==============================] - 1s 3ms/step - loss: 2.1268 - mean_absolute_error: 1.1104\n",
      "Epoch 78/100\n",
      "303/303 [==============================] - 1s 2ms/step - loss: 2.2801 - mean_absolute_error: 1.1354\n",
      "Epoch 79/100\n",
      "303/303 [==============================] - 1s 3ms/step - loss: 2.9357 - mean_absolute_error: 1.2843\n",
      "Epoch 80/100\n",
      "303/303 [==============================] - 1s 3ms/step - loss: 2.0380 - mean_absolute_error: 1.0619\n",
      "Epoch 81/100\n",
      "303/303 [==============================] - 1s 2ms/step - loss: 2.2134 - mean_absolute_error: 1.1125\n",
      "Epoch 82/100\n",
      "303/303 [==============================] - 1s 2ms/step - loss: 2.1019 - mean_absolute_error: 1.0688\n",
      "Epoch 83/100\n",
      "303/303 [==============================] - 1s 2ms/step - loss: 1.9625 - mean_absolute_error: 1.0527\n",
      "Epoch 84/100\n",
      "303/303 [==============================] - 1s 2ms/step - loss: 1.9576 - mean_absolute_error: 1.0224\n",
      "Epoch 85/100\n"
     ]
    },
    {
     "name": "stdout",
     "output_type": "stream",
     "text": [
      "303/303 [==============================] - 1s 2ms/step - loss: 2.1347 - mean_absolute_error: 1.1384\n",
      "Epoch 86/100\n",
      "303/303 [==============================] - 1s 2ms/step - loss: 2.0824 - mean_absolute_error: 1.1166\n",
      "Epoch 87/100\n",
      "303/303 [==============================] - 1s 2ms/step - loss: 2.2741 - mean_absolute_error: 1.1581\n",
      "Epoch 88/100\n",
      "303/303 [==============================] - 1s 3ms/step - loss: 2.1791 - mean_absolute_error: 1.0892\n",
      "Epoch 89/100\n",
      "303/303 [==============================] - 1s 3ms/step - loss: 2.2667 - mean_absolute_error: 1.1284\n",
      "Epoch 90/100\n",
      "303/303 [==============================] - 1s 2ms/step - loss: 1.8855 - mean_absolute_error: 1.0341\n",
      "Epoch 91/100\n",
      "303/303 [==============================] - 1s 2ms/step - loss: 2.0164 - mean_absolute_error: 1.0795\n",
      "Epoch 92/100\n",
      "303/303 [==============================] - 1s 2ms/step - loss: 1.9493 - mean_absolute_error: 1.0438\n",
      "Epoch 93/100\n",
      "303/303 [==============================] - 1s 2ms/step - loss: 1.8461 - mean_absolute_error: 1.0278\n",
      "Epoch 94/100\n",
      "303/303 [==============================] - 1s 2ms/step - loss: 1.9833 - mean_absolute_error: 1.0659\n",
      "Epoch 95/100\n",
      "303/303 [==============================] - 1s 2ms/step - loss: 2.0491 - mean_absolute_error: 1.0840\n",
      "Epoch 96/100\n",
      "303/303 [==============================] - 1s 2ms/step - loss: 1.7189 - mean_absolute_error: 0.9875\n",
      "Epoch 97/100\n",
      "303/303 [==============================] - 1s 2ms/step - loss: 1.8782 - mean_absolute_error: 1.0138\n",
      "Epoch 98/100\n",
      "303/303 [==============================] - 1s 2ms/step - loss: 1.8230 - mean_absolute_error: 1.0028\n",
      "Epoch 99/100\n",
      "303/303 [==============================] - 1s 2ms/step - loss: 1.8916 - mean_absolute_error: 1.0071\n",
      "Epoch 100/100\n",
      "303/303 [==============================] - 1s 2ms/step - loss: 1.6138 - mean_absolute_error: 0.9406\n",
      "101/101 [==============================] - 1s 6ms/step\n",
      "Training on fold # 4\n",
      "Epoch 1/100\n",
      "303/303 [==============================] - 2s 8ms/step - loss: 167.4615 - mean_absolute_error: 9.3466\n",
      "Epoch 2/100\n",
      "303/303 [==============================] - 1s 3ms/step - loss: 21.8092 - mean_absolute_error: 3.2953\n",
      "Epoch 3/100\n",
      "303/303 [==============================] - 1s 2ms/step - loss: 17.2184 - mean_absolute_error: 2.8126\n",
      "Epoch 4/100\n",
      "303/303 [==============================] - 1s 2ms/step - loss: 14.8622 - mean_absolute_error: 2.7659\n",
      "Epoch 5/100\n",
      "303/303 [==============================] - 1s 2ms/step - loss: 12.9410 - mean_absolute_error: 2.5485\n",
      "Epoch 6/100\n",
      "303/303 [==============================] - 1s 2ms/step - loss: 11.2750 - mean_absolute_error: 2.4126\n",
      "Epoch 7/100\n",
      "303/303 [==============================] - 1s 2ms/step - loss: 10.7126 - mean_absolute_error: 2.3370\n",
      "Epoch 8/100\n",
      "303/303 [==============================] - 1s 2ms/step - loss: 10.8938 - mean_absolute_error: 2.3694\n",
      "Epoch 9/100\n",
      "303/303 [==============================] - 1s 2ms/step - loss: 10.0823 - mean_absolute_error: 2.3042\n",
      "Epoch 10/100\n",
      "303/303 [==============================] - 1s 2ms/step - loss: 10.0786 - mean_absolute_error: 2.2424\n",
      "Epoch 11/100\n",
      "303/303 [==============================] - 1s 2ms/step - loss: 9.3699 - mean_absolute_error: 2.2197\n",
      "Epoch 12/100\n",
      "303/303 [==============================] - 1s 2ms/step - loss: 9.6817 - mean_absolute_error: 2.2336\n",
      "Epoch 13/100\n",
      "303/303 [==============================] - 1s 2ms/step - loss: 8.6881 - mean_absolute_error: 2.0804\n",
      "Epoch 14/100\n",
      "303/303 [==============================] - 1s 3ms/step - loss: 8.4111 - mean_absolute_error: 2.0384\n",
      "Epoch 15/100\n",
      "303/303 [==============================] - 1s 3ms/step - loss: 8.1664 - mean_absolute_error: 2.0430\n",
      "Epoch 16/100\n",
      "303/303 [==============================] - 1s 3ms/step - loss: 7.8587 - mean_absolute_error: 1.9561\n",
      "Epoch 17/100\n",
      "303/303 [==============================] - 1s 2ms/step - loss: 7.7497 - mean_absolute_error: 1.9947\n",
      "Epoch 18/100\n",
      "303/303 [==============================] - 1s 3ms/step - loss: 7.1892 - mean_absolute_error: 1.8995\n",
      "Epoch 19/100\n",
      "303/303 [==============================] - 1s 3ms/step - loss: 7.3955 - mean_absolute_error: 1.8746\n",
      "Epoch 20/100\n",
      "303/303 [==============================] - 1s 2ms/step - loss: 6.8730 - mean_absolute_error: 1.8249\n",
      "Epoch 21/100\n",
      "303/303 [==============================] - 1s 2ms/step - loss: 7.1310 - mean_absolute_error: 1.8529\n",
      "Epoch 22/100\n",
      "303/303 [==============================] - 1s 3ms/step - loss: 7.0981 - mean_absolute_error: 1.8019\n",
      "Epoch 23/100\n",
      "303/303 [==============================] - 1s 2ms/step - loss: 6.8511 - mean_absolute_error: 1.8654\n",
      "Epoch 24/100\n",
      "303/303 [==============================] - 1s 2ms/step - loss: 6.8196 - mean_absolute_error: 1.8376\n",
      "Epoch 25/100\n",
      "303/303 [==============================] - 1s 2ms/step - loss: 6.5501 - mean_absolute_error: 1.7577\n",
      "Epoch 26/100\n",
      "303/303 [==============================] - 1s 2ms/step - loss: 6.5254 - mean_absolute_error: 1.7870\n",
      "Epoch 27/100\n",
      "303/303 [==============================] - 1s 3ms/step - loss: 6.4290 - mean_absolute_error: 1.8512\n",
      "Epoch 28/100\n",
      "303/303 [==============================] - 1s 3ms/step - loss: 6.3335 - mean_absolute_error: 1.7901\n",
      "Epoch 29/100\n",
      "303/303 [==============================] - 1s 3ms/step - loss: 6.3332 - mean_absolute_error: 1.7212\n",
      "Epoch 30/100\n",
      "303/303 [==============================] - 1s 3ms/step - loss: 6.1529 - mean_absolute_error: 1.7326\n",
      "Epoch 31/100\n",
      "303/303 [==============================] - 1s 3ms/step - loss: 5.9287 - mean_absolute_error: 1.7041\n",
      "Epoch 32/100\n",
      "303/303 [==============================] - 1s 2ms/step - loss: 6.2870 - mean_absolute_error: 1.7610\n",
      "Epoch 33/100\n",
      "303/303 [==============================] - 1s 3ms/step - loss: 5.3017 - mean_absolute_error: 1.6244\n",
      "Epoch 34/100\n",
      "303/303 [==============================] - 1s 3ms/step - loss: 6.2587 - mean_absolute_error: 1.7713\n",
      "Epoch 35/100\n",
      "303/303 [==============================] - 1s 3ms/step - loss: 5.4831 - mean_absolute_error: 1.6311\n",
      "Epoch 36/100\n",
      "303/303 [==============================] - 1s 2ms/step - loss: 5.4417 - mean_absolute_error: 1.6126\n",
      "Epoch 37/100\n",
      "303/303 [==============================] - 1s 3ms/step - loss: 5.5980 - mean_absolute_error: 1.6374\n",
      "Epoch 38/100\n",
      "303/303 [==============================] - 1s 3ms/step - loss: 5.1563 - mean_absolute_error: 1.5885\n",
      "Epoch 39/100\n",
      "303/303 [==============================] - 1s 3ms/step - loss: 5.3011 - mean_absolute_error: 1.6429\n",
      "Epoch 40/100\n",
      "303/303 [==============================] - 1s 2ms/step - loss: 5.2679 - mean_absolute_error: 1.6155\n",
      "Epoch 41/100\n",
      "303/303 [==============================] - 1s 2ms/step - loss: 4.6509 - mean_absolute_error: 1.4741\n",
      "Epoch 42/100\n",
      "303/303 [==============================] - 1s 2ms/step - loss: 5.0228 - mean_absolute_error: 1.5620\n",
      "Epoch 43/100\n",
      "303/303 [==============================] - 1s 3ms/step - loss: 4.7739 - mean_absolute_error: 1.5661\n",
      "Epoch 44/100\n",
      "303/303 [==============================] - 1s 3ms/step - loss: 5.2671 - mean_absolute_error: 1.5823\n",
      "Epoch 45/100\n",
      "303/303 [==============================] - 1s 2ms/step - loss: 4.9674 - mean_absolute_error: 1.5373\n",
      "Epoch 46/100\n",
      "303/303 [==============================] - 1s 2ms/step - loss: 4.5757 - mean_absolute_error: 1.4830\n",
      "Epoch 47/100\n",
      "303/303 [==============================] - 1s 3ms/step - loss: 5.0175 - mean_absolute_error: 1.5799\n",
      "Epoch 48/100\n",
      "303/303 [==============================] - 1s 2ms/step - loss: 4.7717 - mean_absolute_error: 1.4995\n",
      "Epoch 49/100\n",
      "303/303 [==============================] - 1s 3ms/step - loss: 4.5705 - mean_absolute_error: 1.5662A: 0s - loss: 4.8389 - mean_absolute_err\n",
      "Epoch 50/100\n",
      "303/303 [==============================] - 1s 2ms/step - loss: 4.6738 - mean_absolute_error: 1.5431\n",
      "Epoch 51/100\n",
      "303/303 [==============================] - 1s 3ms/step - loss: 4.3394 - mean_absolute_error: 1.4753\n",
      "Epoch 52/100\n",
      "303/303 [==============================] - 1s 3ms/step - loss: 4.2404 - mean_absolute_error: 1.4416\n",
      "Epoch 53/100\n",
      "303/303 [==============================] - 1s 3ms/step - loss: 4.3298 - mean_absolute_error: 1.4381\n",
      "Epoch 54/100\n",
      "303/303 [==============================] - 1s 3ms/step - loss: 3.9931 - mean_absolute_error: 1.4002\n",
      "Epoch 55/100\n",
      "303/303 [==============================] - 1s 3ms/step - loss: 3.9165 - mean_absolute_error: 1.3937\n",
      "Epoch 56/100\n"
     ]
    },
    {
     "name": "stdout",
     "output_type": "stream",
     "text": [
      "303/303 [==============================] - 1s 2ms/step - loss: 3.9373 - mean_absolute_error: 1.3803\n",
      "Epoch 57/100\n",
      "303/303 [==============================] - 1s 2ms/step - loss: 3.8948 - mean_absolute_error: 1.4183\n",
      "Epoch 58/100\n",
      "303/303 [==============================] - 1s 2ms/step - loss: 4.1901 - mean_absolute_error: 1.4390\n",
      "Epoch 59/100\n",
      "303/303 [==============================] - 1s 2ms/step - loss: 4.0174 - mean_absolute_error: 1.3893\n",
      "Epoch 60/100\n",
      "303/303 [==============================] - 1s 2ms/step - loss: 3.8233 - mean_absolute_error: 1.3761\n",
      "Epoch 61/100\n",
      "303/303 [==============================] - 1s 2ms/step - loss: 4.1279 - mean_absolute_error: 1.4163\n",
      "Epoch 62/100\n",
      "303/303 [==============================] - 1s 2ms/step - loss: 3.6453 - mean_absolute_error: 1.3759\n",
      "Epoch 63/100\n",
      "303/303 [==============================] - 1s 2ms/step - loss: 3.3372 - mean_absolute_error: 1.3125\n",
      "Epoch 64/100\n",
      "303/303 [==============================] - 1s 2ms/step - loss: 3.6214 - mean_absolute_error: 1.3644\n",
      "Epoch 65/100\n",
      "303/303 [==============================] - 1s 3ms/step - loss: 3.7757 - mean_absolute_error: 1.3766\n",
      "Epoch 66/100\n",
      "303/303 [==============================] - 1s 3ms/step - loss: 3.7980 - mean_absolute_error: 1.4413\n",
      "Epoch 67/100\n",
      "303/303 [==============================] - 1s 2ms/step - loss: 3.6816 - mean_absolute_error: 1.3844\n",
      "Epoch 68/100\n",
      "303/303 [==============================] - 1s 2ms/step - loss: 3.4576 - mean_absolute_error: 1.3097\n",
      "Epoch 69/100\n",
      "303/303 [==============================] - 1s 2ms/step - loss: 3.6849 - mean_absolute_error: 1.3489\n",
      "Epoch 70/100\n",
      "303/303 [==============================] - 1s 3ms/step - loss: 3.4794 - mean_absolute_error: 1.3383\n",
      "Epoch 71/100\n",
      "303/303 [==============================] - 1s 2ms/step - loss: 3.6886 - mean_absolute_error: 1.3393\n",
      "Epoch 72/100\n",
      "303/303 [==============================] - 1s 2ms/step - loss: 3.5296 - mean_absolute_error: 1.3881\n",
      "Epoch 73/100\n",
      "303/303 [==============================] - 1s 2ms/step - loss: 3.4261 - mean_absolute_error: 1.3330\n",
      "Epoch 74/100\n",
      "303/303 [==============================] - 1s 2ms/step - loss: 3.3254 - mean_absolute_error: 1.3153\n",
      "Epoch 75/100\n",
      "303/303 [==============================] - 1s 2ms/step - loss: 3.1912 - mean_absolute_error: 1.3087\n",
      "Epoch 76/100\n",
      "303/303 [==============================] - 1s 2ms/step - loss: 3.7378 - mean_absolute_error: 1.4301\n",
      "Epoch 77/100\n",
      "303/303 [==============================] - 1s 2ms/step - loss: 3.2017 - mean_absolute_error: 1.2807\n",
      "Epoch 78/100\n",
      "303/303 [==============================] - 1s 2ms/step - loss: 3.4360 - mean_absolute_error: 1.3022\n",
      "Epoch 79/100\n",
      "303/303 [==============================] - 1s 3ms/step - loss: 3.2460 - mean_absolute_error: 1.3175\n",
      "Epoch 80/100\n",
      "303/303 [==============================] - 1s 3ms/step - loss: 2.7874 - mean_absolute_error: 1.2295\n",
      "Epoch 81/100\n",
      "303/303 [==============================] - 1s 2ms/step - loss: 2.9930 - mean_absolute_error: 1.2416\n",
      "Epoch 82/100\n",
      "303/303 [==============================] - 1s 2ms/step - loss: 3.4700 - mean_absolute_error: 1.3498\n",
      "Epoch 83/100\n",
      "303/303 [==============================] - 1s 2ms/step - loss: 2.8825 - mean_absolute_error: 1.1941\n",
      "Epoch 84/100\n",
      "303/303 [==============================] - 1s 2ms/step - loss: 2.8824 - mean_absolute_error: 1.2575\n",
      "Epoch 85/100\n",
      "303/303 [==============================] - 1s 2ms/step - loss: 2.8119 - mean_absolute_error: 1.2458\n",
      "Epoch 86/100\n",
      "303/303 [==============================] - 1s 3ms/step - loss: 2.9971 - mean_absolute_error: 1.2472A: 0s - loss: 1.9653 - mean_absolut\n",
      "Epoch 87/100\n",
      "303/303 [==============================] - 1s 2ms/step - loss: 2.9999 - mean_absolute_error: 1.3046\n",
      "Epoch 88/100\n",
      "303/303 [==============================] - 1s 2ms/step - loss: 2.6834 - mean_absolute_error: 1.1830\n",
      "Epoch 89/100\n",
      "303/303 [==============================] - 1s 2ms/step - loss: 2.9087 - mean_absolute_error: 1.2703\n",
      "Epoch 90/100\n",
      "303/303 [==============================] - 1s 3ms/step - loss: 2.9387 - mean_absolute_error: 1.2393\n",
      "Epoch 91/100\n",
      "303/303 [==============================] - 1s 3ms/step - loss: 2.7429 - mean_absolute_error: 1.2259\n",
      "Epoch 92/100\n",
      "303/303 [==============================] - 1s 2ms/step - loss: 2.5669 - mean_absolute_error: 1.1736\n",
      "Epoch 93/100\n",
      "303/303 [==============================] - 1s 2ms/step - loss: 2.7377 - mean_absolute_error: 1.1850\n",
      "Epoch 94/100\n",
      "303/303 [==============================] - 1s 2ms/step - loss: 3.0912 - mean_absolute_error: 1.2494\n",
      "Epoch 95/100\n",
      "303/303 [==============================] - 1s 2ms/step - loss: 2.6215 - mean_absolute_error: 1.1965\n",
      "Epoch 96/100\n",
      "303/303 [==============================] - 1s 2ms/step - loss: 2.2698 - mean_absolute_error: 1.0823\n",
      "Epoch 97/100\n",
      "303/303 [==============================] - 1s 2ms/step - loss: 2.6403 - mean_absolute_error: 1.1772\n",
      "Epoch 98/100\n",
      "303/303 [==============================] - 1s 2ms/step - loss: 2.6910 - mean_absolute_error: 1.1959\n",
      "Epoch 99/100\n",
      "303/303 [==============================] - 1s 3ms/step - loss: 2.3962 - mean_absolute_error: 1.1220\n",
      "Epoch 100/100\n",
      "303/303 [==============================] - 1s 2ms/step - loss: 2.6715 - mean_absolute_error: 1.1907\n",
      "101/101 [==============================] - 1s 6ms/step\n"
     ]
    }
   ],
   "source": [
    "train_model()"
   ]
  },
  {
   "cell_type": "code",
   "execution_count": 115,
   "metadata": {},
   "outputs": [
    {
     "data": {
      "text/plain": [
       "2.56865270952187"
      ]
     },
     "execution_count": 115,
     "metadata": {},
     "output_type": "execute_result"
    }
   ],
   "source": [
    "np.mean(scores)"
   ]
  },
  {
   "cell_type": "markdown",
   "metadata": {},
   "source": [
    "We have a average of of ~2.5 thousand mean absolute error. \n",
    "\n",
    "Lets train for more epochs and see if the model will perform better."
   ]
  },
  {
   "cell_type": "code",
   "execution_count": 139,
   "metadata": {},
   "outputs": [],
   "source": [
    "def train_model_v2(epochs = 500):\n",
    "    score = []\n",
    "    for i in range(k):\n",
    "        print(\"Training on iteration #\", i + 1)\n",
    "        val_data = train_data[i * num_samp_per_fold: (i + 1) * num_samp_per_fold]\n",
    "        val_labels = train_labels[i * num_samp_per_fold: (i + 1) * num_samp_per_fold]\n",
    "        \n",
    "        partial_train_data = np.concatenate( \n",
    "            [train_data[: i * num_samp_per_fold],\n",
    "            train_data[(i+1) * num_samp_per_fold:]],\n",
    "            axis = 0)\n",
    "        partial_train_labels = np.concatenate(\n",
    "            [train_labels[: i * num_samp_per_fold], \n",
    "            train_labels[(i+1) * num_samp_per_fold:]],\n",
    "            axis = 0)\n",
    "        \n",
    "        model = create_model()\n",
    "        # Training text was cutoff, as shown above, 400 lines of output can be pretty long....\n",
    "        history = model.fit(partial_train_data, partial_train_labels, epochs = epochs, batch_size = 1, validation_data = (val_data, val_labels),verbose = 0)\n",
    "        mae_per_epoch = history.history['val_mean_absolute_error']\n",
    "        score.append(mae_per_epoch)\n",
    "    return score"
   ]
  },
  {
   "cell_type": "code",
   "execution_count": 140,
   "metadata": {},
   "outputs": [
    {
     "name": "stdout",
     "output_type": "stream",
     "text": [
      "Training on iteration # 1\n",
      "Training on iteration # 2\n",
      "Training on iteration # 3\n",
      "Training on iteration # 4\n"
     ]
    }
   ],
   "source": [
    "score = train_model_v2()"
   ]
  },
  {
   "cell_type": "markdown",
   "metadata": {},
   "source": [
    "### Computing the average mae scores per epoch"
   ]
  },
  {
   "cell_type": "code",
   "execution_count": 141,
   "metadata": {},
   "outputs": [],
   "source": [
    "avg_mae_per_epoch = [np.mean([x[i] for x in score]) for i in range(500)]"
   ]
  },
  {
   "cell_type": "code",
   "execution_count": 142,
   "metadata": {},
   "outputs": [
    {
     "data": {
      "image/png": "[encoded data removed]",
      "text/plain": [
       "<matplotlib.figure.Figure at 0x12b4710f0>"
      ]
     },
     "metadata": {},
     "output_type": "display_data"
    }
   ],
   "source": [
    "epochs = range(1, len(avg_mae_per_epoch) + 1)\n",
    "\n",
    "plt.plot(epochs, avg_mae_per_epoch, label = \"Validation MAE\")\n",
    "plt.xlabel(\"Epochs\")\n",
    "plt.ylabel(\"MAE Per Epoch\")\n",
    "plt.legend()\n",
    "plt.show()"
   ]
  },
  {
   "cell_type": "markdown",
   "metadata": {},
   "source": [
    "### Smoothing avg mae scores per epoch"
   ]
  },
  {
   "cell_type": "markdown",
   "metadata": {},
   "source": [
    "The graph above is a little hard to read, inorder to increase visibility, lets smooth the graph by replacing the points with an exponential moving average of the previous points"
   ]
  },
  {
   "cell_type": "code",
   "execution_count": 148,
   "metadata": {
    "collapsed": true
   },
   "outputs": [],
   "source": [
    "def smooth_curve(points, factor=0.9):\n",
    "    smoothed_points = []\n",
    "    for point in points:\n",
    "        if smoothed_points:\n",
    "            previous = smoothed_points[-1]\n",
    "            smoothed_points.append(previous * factor + point * (1 - factor))\n",
    "        else:\n",
    "            smoothed_points.append(point)\n",
    "    return smoothed_points"
   ]
  },
  {
   "cell_type": "code",
   "execution_count": 152,
   "metadata": {},
   "outputs": [
    {
     "data": {
      "image/png": "[encoded data removed]",
      "text/plain": [
       "<matplotlib.figure.Figure at 0x12bf28c50>"
      ]
     },
     "metadata": {},
     "output_type": "display_data"
    }
   ],
   "source": [
    "smoothed_mae = smooth_curve(avg_mae_per_epoch[10:])\n",
    "epochs = range(1, len(smoothed_mae) + 1)\n",
    "\n",
    "plt.clf()\n",
    "plt.plot(epochs, smoothed_mae, label = \"Validation Mae\")\n",
    "plt.xlabel(\"Epochs\")\n",
    "plt.ylabel(\"Smoothed MAE per Epoch\")\n",
    "plt.legend()\n",
    "plt.show()"
   ]
  },
  {
   "cell_type": "markdown",
   "metadata": {},
   "source": [
    "### Summary"
   ]
  },
  {
   "cell_type": "markdown",
   "metadata": {},
   "source": [
    "It seems like the validation MAE stops improving around 100 epochs, after that the model starts to overfit. "
   ]
  },
  {
   "cell_type": "markdown",
   "metadata": {},
   "source": [
    "## Conclusion"
   ]
  },
  {
   "cell_type": "markdown",
   "metadata": {},
   "source": [
    "It seems like our earlier model trained on 100 epochs had better accuracy for unseen data then training it on 500 epochs where it is overfitting on the training data."
   ]
  }
 ],
 "metadata": {
  "kernelspec": {
   "display_name": "Python 3",
   "language": "python",
   "name": "python3"
  },
  "language_info": {
   "codemirror_mode": {
    "name": "ipython",
    "version": 3
   },
   "file_extension": ".py",
   "mimetype": "text/x-python",
   "name": "python",
   "nbconvert_exporter": "python",
   "pygments_lexer": "ipython3",
   "version": "3.6.3"
  }
 },
 "nbformat": 4,
 "nbformat_minor": 2
}
